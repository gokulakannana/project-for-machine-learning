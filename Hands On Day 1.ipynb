{
 "cells": [
  {
   "cell_type": "code",
   "execution_count": 1,
   "id": "f229a50e-0189-4372-815d-8fcb942036a8",
   "metadata": {},
   "outputs": [],
   "source": [
    "#declear a variable\n",
    "#variables are the containers use to store any data types\n",
    "X=10"
   ]
  },
  {
   "cell_type": "code",
   "execution_count": 2,
   "id": "3aee0e00-b831-474b-9a15-17dc2e09a278",
   "metadata": {},
   "outputs": [
    {
     "name": "stdout",
     "output_type": "stream",
     "text": [
      "10\n"
     ]
    }
   ],
   "source": [
    "# print the variable\n",
    "print (X)"
   ]
  },
  {
   "cell_type": "code",
   "execution_count": 3,
   "id": "32aad4f2-4ade-4863-be7d-38d238730d7c",
   "metadata": {},
   "outputs": [
    {
     "data": {
      "text/plain": [
       "int"
      ]
     },
     "execution_count": 3,
     "metadata": {},
     "output_type": "execute_result"
    }
   ],
   "source": [
    "# check the datatype of the variable(X)\n",
    "type(X)"
   ]
  },
  {
   "cell_type": "raw",
   "id": "576d3916-1a81-4748-be83-37a6e51a3589",
   "metadata": {},
   "source": [
    "# create an integer datatype\n",
    "int_1=20\n",
    "\n",
    "# show the datatype\n",
    "print('datatype of the variable ',type(int_1))"
   ]
  },
  {
   "cell_type": "code",
   "execution_count": 19,
   "id": "d4912886-700b-4ba5-bbce-a5ce9d462ee5",
   "metadata": {},
   "outputs": [
    {
     "name": "stdout",
     "output_type": "stream",
     "text": [
      "datatype of the variable  <class 'float'>\n"
     ]
    }
   ],
   "source": [
    "# create an float datatype\n",
    "float_1=20.38\n",
    "\n",
    "# show the datatype\n",
    "print('datatype of the variable ',type(float_1))"
   ]
  },
  {
   "cell_type": "code",
   "execution_count": 21,
   "id": "482faf1d-b000-439e-9b2d-e59d94e1add6",
   "metadata": {},
   "outputs": [
    {
     "name": "stdout",
     "output_type": "stream",
     "text": [
      "datatype of the variable  <class 'str'>\n"
     ]
    }
   ],
   "source": [
    "# create an string datatype\n",
    "string_1='Gokul'\n",
    "\n",
    "# show the datatype\n",
    "print('datatype of the variable ',type(string_1))"
   ]
  },
  {
   "cell_type": "code",
   "execution_count": 23,
   "id": "89f99292-b0f4-41c4-9adb-2644eb51d6c9",
   "metadata": {},
   "outputs": [
    {
     "name": "stdout",
     "output_type": "stream",
     "text": [
      "<class 'list'>\n",
      "[10, 20, 30, 40]\n",
      "[10.38, 20.4, 30.39, 40.68]\n",
      "['Gokul', 'Kannan', 'verti', 'vel']\n"
     ]
    }
   ],
   "source": [
    "# create an list datatype\n",
    "list_1=[10,20,30,40]\n",
    "list_2=[10.38,20.40,30.39,40.68]\n",
    "list_3=['Gokul','Kannan','verti','vel']\n",
    "\n",
    "#show the datatype\n",
    "print(type(list_1))\n",
    "print(list_1)\n",
    "print(list_2)\n",
    "print(list_3)"
   ]
  },
  {
   "cell_type": "code",
   "execution_count": 27,
   "id": "1ee63f33-a070-4115-a14f-af6efcdf7d6e",
   "metadata": {},
   "outputs": [
    {
     "name": "stdout",
     "output_type": "stream",
     "text": [
      "<class 'tuple'>\n"
     ]
    }
   ],
   "source": [
    "tuple_1=(10,20,30,40)\n",
    "tuple_2=(10.38,20.40,30.39,40.68)\n",
    "tuple_3=('Gokul','Kannan','verti','vel')\n",
    "\n",
    "#show the datatype\n",
    "print(type(tuple_1))"
   ]
  },
  {
   "cell_type": "code",
   "execution_count": 29,
   "id": "f6b38d23-ff3d-4128-8721-9d3c2f1f6737",
   "metadata": {},
   "outputs": [
    {
     "name": "stdout",
     "output_type": "stream",
     "text": [
      "<class 'set'>\n",
      "<class 'set'>\n",
      "<class 'set'>\n"
     ]
    }
   ],
   "source": [
    "# create a set variable\n",
    "set_1={10,20,30,40}\n",
    "set_2={10.38,20.40,30.39,40.68}\n",
    "set_3={'Gokul','Kannan','verti','vel'}\n",
    "\n",
    "#show the datatype\n",
    "print(type(set_1))\n",
    "print(type(set_2))\n",
    "print(type(set_3))"
   ]
  },
  {
   "cell_type": "code",
   "execution_count": 33,
   "id": "260a822c-486d-4469-b8a4-e507b605de5b",
   "metadata": {},
   "outputs": [
    {
     "name": "stdout",
     "output_type": "stream",
     "text": [
      "datatype of the variable <class 'bool'>\n",
      "datatype of the variable <class 'bool'>\n"
     ]
    }
   ],
   "source": [
    "# create an boolean datatype\n",
    "boolean_1=True\n",
    "boolean_2=False\n",
    "\n",
    "# show the datatype\n",
    "print('datatype of the variable',type(boolean_1))\n",
    "print('datatype of the variable',type(boolean_2))"
   ]
  },
  {
   "cell_type": "code",
   "execution_count": 39,
   "id": "9b031ed2-48ec-4f36-903a-36bb583c606e",
   "metadata": {},
   "outputs": [
    {
     "name": "stdout",
     "output_type": "stream",
     "text": [
      "datatype of the variable <class 'dict'>\n"
     ]
    }
   ],
   "source": [
    "# show an dictonary\n",
    "dictonary_1={'list_1':[10,20,30,40],\n",
    "             'tuple_1':(10,20,30,40),\n",
    "             'set_1':{10,20,30,40}}\n",
    "# show the datatype\n",
    "print('datatype of the variable',type(dictonary_1))"
   ]
  },
  {
   "cell_type": "markdown",
   "id": "80c1bd82-5ea6-4355-83ed-c188838c8f61",
   "metadata": {},
   "source": [
    "# basic operation"
   ]
  },
  {
   "cell_type": "code",
   "execution_count": 44,
   "id": "854b899c-3b08-4ba1-9734-2bc0e8faa62d",
   "metadata": {},
   "outputs": [
    {
     "name": "stdout",
     "output_type": "stream",
     "text": [
      "datatype of the variable <class 'float'>\n",
      "datatype of the variable <class 'int'>\n"
     ]
    }
   ],
   "source": [
    "# task1:type casting\n",
    "#float_2=45.96\n",
    "\n",
    "# show the datatype \n",
    "print('datatype of the variable',type(float_2))\n",
    "\n",
    "# type casting\n",
    "int_2=int(float_2)\n",
    "\n",
    "#show the datatype\n",
    "print('datatype of the variable',type(int_2))\n"
   ]
  },
  {
   "cell_type": "code",
   "execution_count": 46,
   "id": "c95b80ea-1b4e-4515-8494-f3623a0ed3c1",
   "metadata": {},
   "outputs": [
    {
     "name": "stdout",
     "output_type": "stream",
     "text": [
      "datatype of the variable <class 'int'>\n",
      "datatype of the variable <class 'float'>\n"
     ]
    }
   ],
   "source": [
    "# task1:type casting\n",
    "int_3=5\n",
    "\n",
    "# show the datatype \n",
    "print('datatype of the variable',type(int_3))\n",
    "\n",
    "# type casting\n",
    "float_3=float(int_3)\n",
    "\n",
    "#show the datatype\n",
    "print('datatype of the variable',type(float_3))\n"
   ]
  },
  {
   "cell_type": "code",
   "execution_count": 1,
   "id": "17cd55f4-bfe4-4e7a-990f-f434a4522d61",
   "metadata": {},
   "outputs": [
    {
     "name": "stdout",
     "output_type": "stream",
     "text": [
      "rounded values are: 10.123\n"
     ]
    }
   ],
   "source": [
    "#Task2:use of round function\n",
    "float_4=10.1234567890\n",
    "\n",
    "# round this value\n",
    "rounded_value=round(float_4,3)\n",
    "\n",
    "#show the output\n",
    "print('rounded values are:',rounded_value)"
   ]
  },
  {
   "cell_type": "markdown",
   "id": "33cca3e1-f588-449c-a45e-7c59b6c241a0",
   "metadata": {},
   "source": [
    "# arithmetic operations on a data"
   ]
  },
  {
   "cell_type": "code",
   "execution_count": 13,
   "id": "71f8b55c-224a-4852-b21e-b22d32944f0e",
   "metadata": {},
   "outputs": [
    {
     "name": "stdout",
     "output_type": "stream",
     "text": [
      "addition of two variables: 50\n"
     ]
    }
   ],
   "source": [
    "# addition operation\n",
    "# declear the variable\n",
    "a=30\n",
    "b=20\n",
    "\n",
    "#perform the sum\n",
    "sum_1=a+b\n",
    "\n",
    "#show the output\n",
    "print('addition of two variables:',sum_1)"
   ]
  },
  {
   "cell_type": "code",
   "execution_count": 11,
   "id": "9f0b6acb-05f4-48c5-b39c-aac6da93deb8",
   "metadata": {},
   "outputs": [
    {
     "name": "stdout",
     "output_type": "stream",
     "text": [
      "subraction of two variables: 10\n"
     ]
    }
   ],
   "source": [
    "# subraction operation\n",
    "# declear the variable\n",
    "a=30\n",
    "b=20\n",
    "\n",
    "#perform the sum\n",
    "sum_1=a-b\n",
    "\n",
    "#show the output\n",
    "print('subraction of two variables:',sum_1)"
   ]
  },
  {
   "cell_type": "code",
   "execution_count": 15,
   "id": "fd61a0ee-86b4-4289-83d5-d7c91f7b7b21",
   "metadata": {},
   "outputs": [
    {
     "name": "stdout",
     "output_type": "stream",
     "text": [
      "multiplication of two variables: 600\n"
     ]
    }
   ],
   "source": [
    "# multiplication operation\n",
    "# declear the variable\n",
    "a=30\n",
    "b=20\n",
    "\n",
    "#perform the sum\n",
    "sum_1=a*b\n",
    "\n",
    "#show the output\n",
    "print('multiplication of two variables:',sum_1)"
   ]
  },
  {
   "cell_type": "code",
   "execution_count": 17,
   "id": "7efb5462-e4ce-45ef-8117-287bd074083a",
   "metadata": {},
   "outputs": [
    {
     "name": "stdout",
     "output_type": "stream",
     "text": [
      "division of two variables: 1.5\n"
     ]
    }
   ],
   "source": [
    "# division operation\n",
    "# declear the variable\n",
    "a=30\n",
    "b=20\n",
    "\n",
    "#perform the sum\n",
    "sum_1=a/b\n",
    "\n",
    "#show the output\n",
    "print('division of two variables:',sum_1)"
   ]
  },
  {
   "cell_type": "markdown",
   "id": "60ed7bd2-d1fb-4d1d-b416-6012f47ee4c2",
   "metadata": {},
   "source": [
    "# User defind function"
   ]
  },
  {
   "cell_type": "code",
   "execution_count": 20,
   "id": "c19d2361-98d4-4e5e-a182-5fc7575b9569",
   "metadata": {},
   "outputs": [
    {
     "data": {
      "text/plain": [
       "30"
      ]
     },
     "execution_count": 20,
     "metadata": {},
     "output_type": "execute_result"
    }
   ],
   "source": [
    "# Declear the function named as 'summation',who can perform the addition in two numbers\n",
    "def summation():\n",
    "    x=10\n",
    "    y=20\n",
    "    summation=x+y\n",
    "    return summation\n",
    "\n",
    "# cal the function\n",
    "summation()\n"
   ]
  },
  {
   "cell_type": "code",
   "execution_count": 24,
   "id": "17aa6b97-f2b8-4490-89bb-62c000e6638c",
   "metadata": {},
   "outputs": [
    {
     "data": {
      "text/plain": [
       "-10"
      ]
     },
     "execution_count": 24,
     "metadata": {},
     "output_type": "execute_result"
    }
   ],
   "source": [
    "# Declear the function names as 'subraction',\n",
    "#who can the subraction between two variables\n",
    "def subraction(x,y):\n",
    "    subraction=x-y\n",
    "    return subraction\n",
    "\n",
    "#call the function\n",
    "subraction(10,20)"
   ]
  },
  {
   "cell_type": "code",
   "execution_count": 32,
   "id": "85750705-212b-42a0-ad13-937349273a20",
   "metadata": {},
   "outputs": [
    {
     "name": "stdin",
     "output_type": "stream",
     "text": [
      "give the first number: 20\n",
      "give the second number: 80\n"
     ]
    },
    {
     "data": {
      "text/plain": [
       "1600"
      ]
     },
     "execution_count": 32,
     "metadata": {},
     "output_type": "execute_result"
    }
   ],
   "source": [
    "# Declear the function named as multiplication\n",
    "# who can perform the multiplication between two variables\n",
    "# this time you need to take the input from the user \n",
    "\n",
    "# take the input from the user\n",
    "var_2=int(input('give the first number:'))\n",
    "var_3=int(input('give the second number:'))\n",
    "\n",
    "# make the user defind function \n",
    "def multiplication(var_2,var_3):\n",
    "    mul=var_2*var_3\n",
    "    return mul\n",
    "\n",
    "#call the function\n",
    "multiplication(var_2,var_3)"
   ]
  },
  {
   "cell_type": "code",
   "execution_count": null,
   "id": "6f4329b3-0a4a-4a67-9bbf-3b3b1ed14990",
   "metadata": {},
   "outputs": [],
   "source": []
  }
 ],
 "metadata": {
  "kernelspec": {
   "display_name": "Python 3 (ipykernel)",
   "language": "python",
   "name": "python3"
  },
  "language_info": {
   "codemirror_mode": {
    "name": "ipython",
    "version": 3
   },
   "file_extension": ".py",
   "mimetype": "text/x-python",
   "name": "python",
   "nbconvert_exporter": "python",
   "pygments_lexer": "ipython3",
   "version": "3.11.7"
  }
 },
 "nbformat": 4,
 "nbformat_minor": 5
}
