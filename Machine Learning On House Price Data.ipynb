{
 "cells": [
  {
   "cell_type": "markdown",
   "id": "fc9acdec-fbe1-4126-b2af-b91f13f7b5a1",
   "metadata": {},
   "source": [
    "# Machine learning on house price data"
   ]
  },
  {
   "cell_type": "raw",
   "id": "3f32c4aa-1e34-4d4b-b0a7-3c6112b516a3",
   "metadata": {},
   "source": [
    "we are going to perform the modeling on houswe price dataset,in this we have multiple parameters who can help us to predict the price of the specfic house."
   ]
  },
  {
   "cell_type": "markdown",
   "id": "a70b9c3c-fff2-4143-9fd5-87b0ab05ac7c",
   "metadata": {},
   "source": [
    "## Import The Required Library"
   ]
  },
  {
   "cell_type": "code",
   "execution_count": 13,
   "id": "6b328f29-490d-46bd-ac0e-b47017d99a1f",
   "metadata": {},
   "outputs": [],
   "source": [
    "# import numerical system\n",
    "import numpy as np\n",
    "\n",
    "\n",
    "# import the pandas\n",
    "import pandas as pd\n",
    "\n",
    "\n",
    "# import seaborn\n",
    "import seaborn as sns\n",
    "\n",
    "# import the matplotlib\n",
    "import matplotlib.pyplot as plt"
   ]
  },
  {
   "cell_type": "markdown",
   "id": "cc44b022-1a65-41cc-8a75-0f296d216295",
   "metadata": {},
   "source": [
    "### data overview "
   ]
  },
  {
   "cell_type": "code",
   "execution_count": null,
   "id": "2c33f891-0029-441b-8dd0-280a5aa6266c",
   "metadata": {},
   "outputs": [],
   "source": [
    "# load the data \n",
    "df_House_price1"
   ]
  }
 ],
 "metadata": {
  "kernelspec": {
   "display_name": "Python 3 (ipykernel)",
   "language": "python",
   "name": "python3"
  },
  "language_info": {
   "codemirror_mode": {
    "name": "ipython",
    "version": 3
   },
   "file_extension": ".py",
   "mimetype": "text/x-python",
   "name": "python",
   "nbconvert_exporter": "python",
   "pygments_lexer": "ipython3",
   "version": "3.11.7"
  }
 },
 "nbformat": 4,
 "nbformat_minor": 5
}
